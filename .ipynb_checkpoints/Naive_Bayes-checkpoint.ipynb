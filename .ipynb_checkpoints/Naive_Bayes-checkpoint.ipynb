{
 "cells": [
  {
   "cell_type": "code",
   "execution_count": 1,
   "id": "5166c06c-8ca5-4ff7-9d11-6ff70f880dae",
   "metadata": {},
   "outputs": [
    {
     "name": "stdout",
     "output_type": "stream",
     "text": [
      "GaussianNB模型準確率: 0.14\n",
      "MultinomialNB模型準確率: 1.00\n"
     ]
    }
   ],
   "source": [
    "import pandas as pd\n",
    "from sklearn.model_selection import train_test_split\n",
    "from sklearn.preprocessing import StandardScaler\n",
    "from sklearn.naive_bayes import GaussianNB\n",
    "from sklearn.naive_bayes import MultinomialNB\n",
    "from sklearn.metrics import accuracy_score\n",
    "\n",
    "# 1. 讀取 CSV 數據\n",
    "df = pd.read_csv(\"data.csv\")\n",
    "df.pop('filename')\n",
    "df.pop('label')\n",
    "# <0\n",
    "df.pop('mfcc1')\n",
    "df.pop('mfcc2')\n",
    "df.pop('mfcc3')\n",
    "df.pop('mfcc4')\n",
    "df.pop('mfcc5')\n",
    "df.pop('mfcc6')\n",
    "df.pop('mfcc7')\n",
    "df.pop('mfcc8')\n",
    "df.pop('mfcc9')\n",
    "df.pop('mfcc10')\n",
    "df.pop('mfcc11')\n",
    "df.pop('mfcc12')\n",
    "df.pop('mfcc13')\n",
    "df.pop('mfcc14')\n",
    "df.pop('mfcc15')\n",
    "df.pop('mfcc16')\n",
    "df.pop('mfcc17')\n",
    "df.pop('mfcc18')\n",
    "df.pop('mfcc19')\n",
    "df.pop('mfcc20')\n",
    "\n",
    "df[\"rmse\"] = df[\"rmse\"].astype(int)\n",
    "\n",
    "# 2. 特徵與標籤分離\n",
    "xg = df.drop(columns=['beats'])  # 移除目標列，保留特徵\n",
    "yg = df['beats']  # 提取目標列\n",
    "xm = df.drop(columns=['rmse'])  # 移除目標列，保留特徵\n",
    "ym = df['rmse']  # 提取目標列\n",
    "\n",
    "# 3. 分割訓練集與測試集\n",
    "xg_train, xg_test, yg_train, yg_test = train_test_split(xg, yg, test_size=0.25, random_state=None)\n",
    "xm_train, xm_test, ym_train, ym_test = train_test_split(xm, ym, test_size=0.2, random_state=None)\n",
    "\n",
    "# 4. 標準化數據\n",
    "scaler = StandardScaler()\n",
    "xg_train = scaler.fit_transform(xg_train)\n",
    "xg_test = scaler.transform(xg_test)\n",
    "\n",
    "# 5. 初始化 NB 模型\n",
    "gaussNB = GaussianNB()\n",
    "multNB = MultinomialNB()\n",
    "\n",
    "# 6. 訓練模型\n",
    "gaussNB.fit(xg_train, yg_train)\n",
    "multNB.fit(xm_train, ym_train)\n",
    "\n",
    "# 7. 預測\n",
    "yg_pred = gaussNB.predict(xg_test)\n",
    "ym_pred = multNB.predict(xm_test)\n",
    "\n",
    "# 8. 評估模型\n",
    "accuracy_g = accuracy_score(yg_test, yg_pred)\n",
    "accuracy_m = accuracy_score(ym_test, ym_pred)\n",
    "\n",
    "print(f\"GaussianNB模型準確率: {accuracy_g:.2f}\")\n",
    "print(f\"MultinomialNB模型準確率: {accuracy_m:.2f}\")\n",
    "\n"
   ]
  },
  {
   "cell_type": "code",
   "execution_count": null,
   "id": "f16dd912-4a41-4bc3-9265-180bbc88ab12",
   "metadata": {},
   "outputs": [],
   "source": []
  }
 ],
 "metadata": {
  "kernelspec": {
   "display_name": "Python 3 (ipykernel)",
   "language": "python",
   "name": "python3"
  },
  "language_info": {
   "codemirror_mode": {
    "name": "ipython",
    "version": 3
   },
   "file_extension": ".py",
   "mimetype": "text/x-python",
   "name": "python",
   "nbconvert_exporter": "python",
   "pygments_lexer": "ipython3",
   "version": "3.11.7"
  }
 },
 "nbformat": 4,
 "nbformat_minor": 5
}
