{
 "cells": [
  {
   "cell_type": "code",
   "execution_count": 4,
   "id": "9574c994-bd62-408b-b73e-a7f7930f12e5",
   "metadata": {},
   "outputs": [
    {
     "name": "stdout",
     "output_type": "stream",
     "text": [
      "KNeighborsClassifier模型準確率: 0.11\n",
      "KNeighborsRegressor均方誤差 (MSE): 455.35\n",
      "KNeighborsRegressor決定係數 (R²): 0.42\n"
     ]
    }
   ],
   "source": [
    "import numpy as np\n",
    "import pandas as pd\n",
    "from sklearn.model_selection import train_test_split\n",
    "from sklearn.preprocessing import StandardScaler\n",
    "from sklearn.neighbors import KNeighborsRegressor\n",
    "from sklearn.neighbors import KNeighborsClassifier\n",
    "from sklearn.metrics import accuracy_score\n",
    "from sklearn.metrics import mean_squared_error, r2_score\n",
    "\n",
    "# 1. 讀取 CSV 數據\n",
    "df = pd.read_csv(\"data.csv\")\n",
    "df.pop('filename')\n",
    "df.pop('label')\n",
    "#df[\"tempo\"] = df[\"tempo\"].astype(int)\n",
    "\n",
    "# 2. 特徵與標籤分離\n",
    "xc = df.drop(columns=['beats'])  # 移除目標列，保留特徵\n",
    "yc = df['beats']  # 提取目標列\n",
    "xr = df.drop(columns=['tempo'])  # 移除目標列，保留特徵\n",
    "yr = df['tempo']  # 提取目標列\n",
    "\n",
    "# 3. 分割訓練集與測試集\n",
    "xc_train, xc_test, yc_train, yc_test = train_test_split(xc, yc, test_size=0.2, random_state=None)\n",
    "xr_train, xr_test, yr_train, yr_test = train_test_split(xr, yr, test_size=0.2, random_state=None)\n",
    "# 4. 標準化數據（可選，對 KNN 效果通常有幫助）\n",
    "scaler = StandardScaler()\n",
    "xc_train = scaler.fit_transform(xc_train)\n",
    "xc_test = scaler.transform(xc_test)\n",
    "xr_train = scaler.fit_transform(xr_train)\n",
    "xr_test = scaler.transform(xr_test)\n",
    "# 5. 初始化 KNN 模型\n",
    "knnClass = KNeighborsClassifier(n_neighbors=1, weights='uniform', metric='euclidean')\n",
    "knnReg = KNeighborsRegressor(n_neighbors=4, weights='uniform', metric='manhattan')\n",
    "\n",
    "# 6. 訓練模型\n",
    "knnClass.fit(xc_train, yc_train)\n",
    "knnReg.fit(xr_train, yr_train)\n",
    "\n",
    "# 7. 預測\n",
    "yc_pred = knnClass.predict(xc_test)\n",
    "yr_pred = knnReg.predict(xr_test)\n",
    "\n",
    "# 8. 評估模型\n",
    "accuracy = accuracy_score(yc_test, yc_pred)\n",
    "print(f\"KNeighborsClassifier模型準確率: {accuracy:.2f}\")\n",
    "\n",
    "mse = mean_squared_error(yr_test, yr_pred)\n",
    "r2 = r2_score(yr_test, yr_pred)\n",
    "\n",
    "print(f\"KNeighborsRegressor均方誤差 (MSE): {mse:.2f}\")\n",
    "print(f\"KNeighborsRegressor決定係數 (R²): {r2:.2f}\")\n"
   ]
  },
  {
   "cell_type": "code",
   "execution_count": null,
   "id": "4b5eeca8-8b87-4d8c-a5d0-809857f7bdba",
   "metadata": {},
   "outputs": [],
   "source": []
  }
 ],
 "metadata": {
  "kernelspec": {
   "display_name": "Python 3 (ipykernel)",
   "language": "python",
   "name": "python3"
  },
  "language_info": {
   "codemirror_mode": {
    "name": "ipython",
    "version": 3
   },
   "file_extension": ".py",
   "mimetype": "text/x-python",
   "name": "python",
   "nbconvert_exporter": "python",
   "pygments_lexer": "ipython3",
   "version": "3.11.7"
  }
 },
 "nbformat": 4,
 "nbformat_minor": 5
}
