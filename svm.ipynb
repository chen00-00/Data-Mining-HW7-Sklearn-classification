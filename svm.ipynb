{
 "cells": [
  {
   "cell_type": "code",
   "execution_count": 8,
   "id": "368b4dc7-7bad-4788-bfef-c9a1a45a279d",
   "metadata": {},
   "outputs": [
    {
     "name": "stdout",
     "output_type": "stream",
     "text": [
      "準確率: 0.07\n",
      "準確率: 0.00\n"
     ]
    }
   ],
   "source": [
    "import numpy as np\n",
    "import pandas as pd\n",
    "from sklearn.model_selection import train_test_split\n",
    "from sklearn.svm import SVC\n",
    "from sklearn.svm import LinearSVC\n",
    "from sklearn.preprocessing import StandardScaler\n",
    "from sklearn.metrics import classification_report, accuracy_score\n",
    "\n",
    "# 1. 加載數據集\n",
    "df = pd.read_csv(\"data.csv\")\n",
    "df.pop('filename')\n",
    "df.pop('label')\n",
    "df[\"tempo\"] = df[\"tempo\"].astype(int)\n",
    "\n",
    "X = df.drop(columns=['beats'])  # 移除目標列，保留特徵\n",
    "y = df['beats']  # 提取目標列\n",
    "Xl = df.drop(columns=['tempo'])  # 移除目標列，保留特徵\n",
    "yl = df['tempo']  # 提取目標列\n",
    "\n",
    "# 2. 分割數據集\n",
    "X_train, X_test, y_train, y_test = train_test_split(X, y, test_size=0.2, random_state=None)\n",
    "Xl_train, Xl_test, yl_train, yl_test = train_test_split(Xl, yl, test_size=0.2, random_state=None)\n",
    "# 3. 標準化數據（對 SVM 很重要）\n",
    "scaler = StandardScaler()\n",
    "X_train = scaler.fit_transform(X_train)\n",
    "X_test = scaler.transform(X_test)\n",
    "\n",
    "Xl_train = scaler.fit_transform(Xl_train)\n",
    "Xl_test = scaler.transform(Xl_test)\n",
    "\n",
    "# 4. 初始化 SVC 模型\n",
    "svc = SVC(C=1.0, kernel='rbf', gamma='scale', random_state=None)\n",
    "lsvc = LinearSVC(C=1.0, penalty='l2', loss='squared_hinge', random_state=None, max_iter=3000)\n",
    "# 5. 訓練模型\n",
    "svc.fit(X_train, y_train)\n",
    "lsvc.fit(Xl_train, yl_train)\n",
    "# 6. 預測\n",
    "y_pred = svc.predict(X_test)\n",
    "yl_pred = svc.predict(Xl_test)\n",
    "\n",
    "# 7. 評估模型\n",
    "print(f\"SVC準確率: {accuracy_score(y_test, y_pred):.2f}\")\n",
    "print(f\"LinearSVC準確率: {accuracy_score(yl_test, yl_pred):.2f}\")"
   ]
  },
  {
   "cell_type": "code",
   "execution_count": null,
   "id": "d825a8e7-4c41-42e6-b510-fbcb4edf2121",
   "metadata": {},
   "outputs": [],
   "source": []
  },
  {
   "cell_type": "code",
   "execution_count": null,
   "id": "0fa6f0dd-be07-4570-a26c-5c48918955bc",
   "metadata": {},
   "outputs": [],
   "source": []
  }
 ],
 "metadata": {
  "kernelspec": {
   "display_name": "Python 3 (ipykernel)",
   "language": "python",
   "name": "python3"
  },
  "language_info": {
   "codemirror_mode": {
    "name": "ipython",
    "version": 3
   },
   "file_extension": ".py",
   "mimetype": "text/x-python",
   "name": "python",
   "nbconvert_exporter": "python",
   "pygments_lexer": "ipython3",
   "version": "3.11.7"
  }
 },
 "nbformat": 4,
 "nbformat_minor": 5
}
