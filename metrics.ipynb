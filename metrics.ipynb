{
 "cells": [
  {
   "cell_type": "code",
   "execution_count": 13,
   "id": "b9b3fcd0-a4d7-465f-8333-82d45ad46a8a",
   "metadata": {},
   "outputs": [
    {
     "name": "stdout",
     "output_type": "stream",
     "text": [
      "[[0 1 0 ... 0 0 0]\n",
      " [0 0 0 ... 0 0 0]\n",
      " [0 0 0 ... 0 0 0]\n",
      " ...\n",
      " [0 0 0 ... 0 0 1]\n",
      " [0 0 0 ... 0 0 0]\n",
      " [0 0 0 ... 0 0 0]]\n"
     ]
    }
   ],
   "source": [
    "import numpy as np\n",
    "import pandas as pd\n",
    "from sklearn.model_selection import train_test_split\n",
    "from sklearn.preprocessing import StandardScaler\n",
    "from sklearn.neighbors import KNeighborsClassifier\n",
    "from sklearn.metrics import confusion_matrix\n",
    "from sklearn.metrics import classification_report\n",
    "from sklearn.metrics import f1_score\n",
    "from sklearn.metrics import precision_recall_curve\n",
    "\n",
    "# 1. 讀取 CSV 數據\n",
    "df = pd.read_csv(\"data.csv\")\n",
    "df.pop('filename')\n",
    "df.pop('label')\n",
    "#df[\"tempo\"] = df[\"tempo\"].astype(int)\n",
    "\n",
    "# 2. 特徵與標籤分離\n",
    "xc = df.drop(columns=['beats'])  # 移除目標列，保留特徵\n",
    "yc = df['beats']  # 提取目標列\n",
    "\n",
    "# 3. 分割訓練集與測試集\n",
    "xc_train, xc_test, yc_train, yc_test = train_test_split(xc, yc, test_size=0.2, random_state=None)\n",
    "# 4. 標準化數據（可選，對 KNN 效果通常有幫助）\n",
    "scaler = StandardScaler()\n",
    "xc_train = scaler.fit_transform(xc_train)\n",
    "xc_test = scaler.transform(xc_test)\n",
    "# 5. 初始化 KNN 模型\n",
    "knnClass = KNeighborsClassifier(n_neighbors=1, weights='uniform', metric='euclidean')\n",
    "\n",
    "# 6. 訓練模型\n",
    "knnClass.fit(xc_train, yc_train)\n",
    "\n",
    "\n",
    "# 7. 預測\n",
    "yc_pred = knnClass.predict(xc_test)\n",
    "\n",
    "\n",
    "# 8. 評估模型\n",
    "print(confusion_matrix(yc_test, yc_pred))\n"
   ]
  },
  {
   "cell_type": "code",
   "execution_count": 45,
   "id": "a8442ccf-5c5f-4b7d-a68d-6571d3574c31",
   "metadata": {},
   "outputs": [
    {
     "name": "stdout",
     "output_type": "stream",
     "text": [
      "              precision    recall  f1-score   support\n",
      "\n",
      "          26      0.000     0.000     0.000         1\n",
      "          29      0.000     0.000     0.000         0\n",
      "          30      0.000     0.000     0.000         1\n",
      "          32      0.000     0.000     0.000         1\n",
      "          33      0.000     0.000     0.000         0\n",
      "          34      0.333     0.500     0.400         2\n",
      "          35      1.000     0.250     0.400         4\n",
      "          36      0.000     0.000     0.000         2\n",
      "          37      0.000     0.000     0.000         2\n",
      "          38      0.000     0.000     0.000         3\n",
      "          39      0.000     0.000     0.000         1\n",
      "          40      0.000     0.000     0.000         1\n",
      "          41      0.000     0.000     0.000         1\n",
      "          42      0.000     0.000     0.000         4\n",
      "          43      0.000     0.000     0.000         4\n",
      "          44      0.000     0.000     0.000         6\n",
      "          45      0.000     0.000     0.000         6\n",
      "          46      0.143     0.250     0.182         4\n",
      "          47      0.083     0.167     0.111         6\n",
      "          48      0.167     0.200     0.182         5\n",
      "          49      0.250     0.167     0.200        12\n",
      "          50      0.000     0.000     0.000         5\n",
      "          51      0.000     0.000     0.000         5\n",
      "          52      0.125     0.143     0.133         7\n",
      "          53      0.000     0.000     0.000         7\n",
      "          54      0.000     0.000     0.000         6\n",
      "          55      0.000     0.000     0.000         8\n",
      "          56      0.000     0.000     0.000         6\n",
      "          57      0.000     0.000     0.000         3\n",
      "          58      0.000     0.000     0.000         4\n",
      "          59      0.000     0.000     0.000         9\n",
      "          60      0.000     0.000     0.000         3\n",
      "          61      0.000     0.000     0.000         6\n",
      "          62      0.000     0.000     0.000         6\n",
      "          63      0.143     0.200     0.167         5\n",
      "          64      0.000     0.000     0.000         3\n",
      "          65      0.000     0.000     0.000         6\n",
      "          66      0.000     0.000     0.000         4\n",
      "          67      0.000     0.000     0.000         4\n",
      "          68      0.000     0.000     0.000         3\n",
      "          69      0.000     0.000     0.000         1\n",
      "          70      0.000     0.000     0.000         4\n",
      "          71      0.000     0.000     0.000         1\n",
      "          72      0.000     0.000     0.000         2\n",
      "          73      0.000     0.000     0.000         1\n",
      "          74      0.000     0.000     0.000         1\n",
      "          75      0.250     0.500     0.333         2\n",
      "          76      0.000     0.000     0.000         1\n",
      "          77      0.667     1.000     0.800         2\n",
      "          78      0.000     0.000     0.000         0\n",
      "          79      0.000     0.000     0.000         2\n",
      "          80      0.000     0.000     0.000         1\n",
      "          81      0.000     0.000     0.000         4\n",
      "          82      0.000     0.000     0.000         0\n",
      "          83      0.000     0.000     0.000         1\n",
      "          86      0.000     0.000     0.000         1\n",
      "          87      0.000     0.000     0.000         1\n",
      "          88      0.000     0.000     0.000         1\n",
      "          89      0.000     0.000     0.000         1\n",
      "          92      0.000     0.000     0.000         1\n",
      "          93      0.000     0.000     0.000         1\n",
      "          96      0.000     0.000     0.000         1\n",
      "          97      0.000     0.000     0.000         2\n",
      "         102      0.000     0.000     0.000         1\n",
      "         105      0.000     0.000     0.000         1\n",
      "         117      0.000     0.000     0.000         0\n",
      "\n",
      "    accuracy                          0.060       200\n",
      "   macro avg      0.048     0.051     0.044       200\n",
      "weighted avg      0.065     0.060     0.056       200\n",
      "\n"
     ]
    }
   ],
   "source": [
    "print(classification_report(yc_test, yc_pred, zero_division=0.0, digits=3))"
   ]
  },
  {
   "cell_type": "code",
   "execution_count": 15,
   "id": "c7d4a324-700c-43cf-a884-d09c25bdc182",
   "metadata": {},
   "outputs": [
    {
     "name": "stdout",
     "output_type": "stream",
     "text": [
      "0.055681818181818186\n"
     ]
    }
   ],
   "source": [
    "print(f1_score(yc_test, yc_pred, average='', zero_division=0.0))"
   ]
  },
  {
   "cell_type": "code",
   "execution_count": 67,
   "id": "36b53c70-3081-494a-b834-c7d2a3b9bb10",
   "metadata": {},
   "outputs": [
    {
     "name": "stdout",
     "output_type": "stream",
     "text": [
      "[0.67 1.  ]\n",
      "[1. 0.]\n",
      "[0.]\n"
     ]
    }
   ],
   "source": [
    "yc_scores = knnClass.predict_proba(xc_test)[:, 1]\n",
    "yc_list = yc_test.values.tolist()\n",
    "for i in range(200):\n",
    "    if yc_list[i] < 50:\n",
    "        yc_list[i] = 0\n",
    "    else:\n",
    "        yc_list[i] = 1\n",
    "precision, recall, thresholds = precision_recall_curve(yc_list, yc_scores)\n",
    "print(precision)\n",
    "print(recall)\n",
    "print(thresholds)"
   ]
  },
  {
   "cell_type": "code",
   "execution_count": null,
   "id": "881c3c67-2db2-456c-b62d-09bda38b5b91",
   "metadata": {},
   "outputs": [],
   "source": []
  }
 ],
 "metadata": {
  "kernelspec": {
   "display_name": "Python 3 (ipykernel)",
   "language": "python",
   "name": "python3"
  },
  "language_info": {
   "codemirror_mode": {
    "name": "ipython",
    "version": 3
   },
   "file_extension": ".py",
   "mimetype": "text/x-python",
   "name": "python",
   "nbconvert_exporter": "python",
   "pygments_lexer": "ipython3",
   "version": "3.11.7"
  }
 },
 "nbformat": 4,
 "nbformat_minor": 5
}
