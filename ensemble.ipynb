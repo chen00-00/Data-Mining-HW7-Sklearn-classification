{
 "cells": [
  {
   "cell_type": "code",
   "execution_count": 25,
   "id": "7abc4cd4-0dd3-4f60-b88f-5a9402bd43fc",
   "metadata": {},
   "outputs": [
    {
     "name": "stdout",
     "output_type": "stream",
     "text": [
      "RandomForestClassifier模型準確率: 1.00\n",
      "GradientBoostingClassifier模型準確率: 0.01\n",
      "GradientBoostingRegressor均方誤差 (MSE): 731.02\n",
      "GradientBoostingRegressor決定係數 (R²): -0.03\n"
     ]
    }
   ],
   "source": [
    "import numpy as np\n",
    "import pandas as pd\n",
    "from sklearn.model_selection import train_test_split\n",
    "from sklearn.preprocessing import StandardScaler\n",
    "from sklearn.ensemble import RandomForestClassifier\n",
    "from sklearn.ensemble import GradientBoostingClassifier\n",
    "from sklearn.ensemble import GradientBoostingRegressor\n",
    "from sklearn.metrics import accuracy_score\n",
    "from sklearn.metrics import mean_squared_error, r2_score\n",
    "\n",
    "# 1. 讀取 CSV 數據\n",
    "df = pd.read_csv(\"data.csv\")\n",
    "df.pop('filename')\n",
    "df.pop('label')\n",
    "df[\"rmse\"] = df[\"rmse\"].astype(int)\n",
    "\n",
    "# 2. 特徵與標籤分離\n",
    "xfc = df.drop(columns=['rmse'])  # 移除目標列，保留特徵\n",
    "yfc = df['rmse']  # 提取目標列\n",
    "xbc = df.drop(columns=['beats'])  # 移除目標列，保留特徵\n",
    "ybc = df['beats']  # 提取目標列\n",
    "xbr = df.drop(columns=['tempo'])  # 移除目標列，保留特徵\n",
    "ybr = df['tempo']  # 提取目標列\n",
    "\n",
    "# 3. 分割訓練集與測試集\n",
    "xfc_train, xfc_test, yfc_train, yfc_test = train_test_split(xfc, yfc, test_size=0.2, random_state=None)\n",
    "xbc_train, xbc_test, ybc_train, ybc_test = train_test_split(xbc, ybc, test_size=0.3, random_state=None)\n",
    "xbr_train, xbr_test, ybr_train, ybr_test = train_test_split(xbr, ybr, test_size=0.1, random_state=None)\n",
    "# 4. 標準化數據（可選，對 KNN 效果通常有幫助）\n",
    "scaler = StandardScaler()\n",
    "xfc_train = scaler.fit_transform(xfc_train)\n",
    "xfc_test = scaler.transform(xfc_test)\n",
    "xbc_train = scaler.fit_transform(xbc_train)\n",
    "xbc_test = scaler.transform(xbc_test)\n",
    "xbr_train = scaler.fit_transform(xbr_train)\n",
    "xbr_test = scaler.transform(xbr_test)\n",
    "# 5. 初始化 KNN 模型\n",
    "RFC = RandomForestClassifier(n_estimators=300, criterion='gini', max_features=5, min_samples_split=5, max_depth=7, random_state=None)\n",
    "GBC = GradientBoostingClassifier(loss='log_loss', learning_rate=0.1, n_estimators=5, subsample=0.1, max_depth=3, max_features=1)\n",
    "GBR = GradientBoostingRegressor(loss='absolute_error', learning_rate=0.1, n_estimators=5, subsample=0.1, max_depth=3, max_features=3)\n",
    "# 6. 訓練模型\n",
    "RFC.fit(xfc_train, yfc_train)\n",
    "GBC.fit(xbc_train, ybc_train)\n",
    "GBR.fit(xbr_train, ybr_train)\n",
    "# 7. 預測\n",
    "yfc_pred = RFC.predict(xfc_test)\n",
    "ybc_pred = GBC.predict(xbc_test)\n",
    "ybr_pred = GBR.predict(xbr_test)\n",
    "\n",
    "# 8. 評估模型\n",
    "accuracy = accuracy_score(yfc_test, yfc_pred)\n",
    "print(f\"RandomForestClassifier模型準確率: {accuracy:.2f}\")\n",
    "\n",
    "accuracy = accuracy_score(ybc_test, ybc_pred)\n",
    "print(f\"GradientBoostingClassifier模型準確率: {accuracy:.2f}\")\n",
    "\n",
    "mse = mean_squared_error(ybr_test, ybr_pred)\n",
    "r2 = r2_score(ybr_test, ybr_pred)\n",
    "\n",
    "print(f\"GradientBoostingRegressor均方誤差 (MSE): {mse:.2f}\")\n",
    "print(f\"GradientBoostingRegressor決定係數 (R²): {r2:.2f}\")\n"
   ]
  },
  {
   "cell_type": "code",
   "execution_count": null,
   "id": "3ae851dc-ce93-44fe-904a-361cccb1e663",
   "metadata": {},
   "outputs": [],
   "source": []
  }
 ],
 "metadata": {
  "kernelspec": {
   "display_name": "Python 3 (ipykernel)",
   "language": "python",
   "name": "python3"
  },
  "language_info": {
   "codemirror_mode": {
    "name": "ipython",
    "version": 3
   },
   "file_extension": ".py",
   "mimetype": "text/x-python",
   "name": "python",
   "nbconvert_exporter": "python",
   "pygments_lexer": "ipython3",
   "version": "3.11.7"
  }
 },
 "nbformat": 4,
 "nbformat_minor": 5
}
