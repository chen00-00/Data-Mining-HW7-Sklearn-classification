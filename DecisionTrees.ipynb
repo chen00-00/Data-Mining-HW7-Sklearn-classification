{
 "cells": [
  {
   "cell_type": "code",
   "execution_count": 17,
   "id": "9a88bbdd-c151-4a4e-b050-ea9c1bca5538",
   "metadata": {},
   "outputs": [
    {
     "name": "stdout",
     "output_type": "stream",
     "text": [
      "Classifier模型準確率: 0.20\n",
      "Regressor均方誤差 (MSE): 75.64\n",
      "Regressor決定係數 (R²): 0.90\n"
     ]
    }
   ],
   "source": [
    "import numpy as np\n",
    "import pandas as pd\n",
    "from sklearn.model_selection import train_test_split\n",
    "from sklearn.preprocessing import StandardScaler\n",
    "from sklearn.tree import DecisionTreeClassifier\n",
    "from sklearn.tree import DecisionTreeRegressor\n",
    "from sklearn.metrics import accuracy_score\n",
    "from sklearn.metrics import mean_squared_error, r2_score\n",
    "\n",
    "# 1. 讀取 CSV 數據\n",
    "df = pd.read_csv(\"data.csv\")\n",
    "df.pop('filename')\n",
    "df.pop('label')\n",
    "#df[\"tempo\"] = df[\"tempo\"].astype(int)\n",
    "\n",
    "# 2. 特徵與標籤分離\n",
    "xc = df.drop(columns=['beats'])  # 移除目標列，保留特徵\n",
    "yc = df['beats']  # 提取目標列\n",
    "xr = df.drop(columns=['tempo'])  # 移除目標列，保留特徵\n",
    "yr = df['tempo']  # 提取目標列\n",
    "\n",
    "# 3. 分割訓練集與測試集\n",
    "xc_train, xc_test, yc_train, yc_test = train_test_split(xc, yc, test_size=0.2, random_state=None)\n",
    "xr_train, xr_test, yr_train, yr_test = train_test_split(xr, yr, test_size=0.2, random_state=None)\n",
    "# 4. 標準化數據（可選，對 KNN 效果通常有幫助）\n",
    "scaler = StandardScaler()\n",
    "xc_train = scaler.fit_transform(xc_train)\n",
    "xc_test = scaler.transform(xc_test)\n",
    "xr_train = scaler.fit_transform(xr_train)\n",
    "xr_test = scaler.transform(xr_test)\n",
    "# 5. 初始化 KNN 模型\n",
    "treeClass = DecisionTreeClassifier(max_depth = 10)\n",
    "treeReg = DecisionTreeRegressor(min_samples_split = 3)\n",
    "\n",
    "# 6. 訓練模型\n",
    "treeClass.fit(xc_train, yc_train)\n",
    "treeReg.fit(xr_train, yr_train)\n",
    "\n",
    "# 7. 預測\n",
    "yc_pred = treeClass.predict(xc_test)\n",
    "yr_pred = treeReg.predict(xr_test)\n",
    "\n",
    "# 8. 評估模型\n",
    "accuracy = accuracy_score(yc_test, yc_pred)\n",
    "print(f\"DecisionTreeClassifier模型準確率: {accuracy:.2f}\")\n",
    "\n",
    "mse = mean_squared_error(yr_test, yr_pred)\n",
    "r2 = r2_score(yr_test, yr_pred)\n",
    "\n",
    "print(f\"DecisionTreeRegressor均方誤差 (MSE): {mse:.2f}\")\n",
    "print(f\"DecisionTreeRegressor決定係數 (R²): {r2:.2f}\")\n"
   ]
  },
  {
   "cell_type": "code",
   "execution_count": null,
   "id": "aa5ab2b8-07ab-40cf-98d4-937ffcd0920c",
   "metadata": {},
   "outputs": [],
   "source": []
  }
 ],
 "metadata": {
  "kernelspec": {
   "display_name": "Python 3 (ipykernel)",
   "language": "python",
   "name": "python3"
  },
  "language_info": {
   "codemirror_mode": {
    "name": "ipython",
    "version": 3
   },
   "file_extension": ".py",
   "mimetype": "text/x-python",
   "name": "python",
   "nbconvert_exporter": "python",
   "pygments_lexer": "ipython3",
   "version": "3.11.7"
  }
 },
 "nbformat": 4,
 "nbformat_minor": 5
}
